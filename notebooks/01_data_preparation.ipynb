{
 "cells": [
  {
   "cell_type": "markdown",
   "id": "b7f50ecc",
   "metadata": {},
   "source": [
    "# 1. Data Preparation\n",
    "This notebook handles data cleaning and feature engineering for the city bike data. It assumes that city bike ride and station location data have already been downloaded and saved to `/data/raw/` by the separate scripts. "
   ]
  },
  {
   "cell_type": "code",
   "execution_count": 1,
   "id": "60e88073",
   "metadata": {},
   "outputs": [],
   "source": [
    "import pandas as pd\n",
    "from pathlib import Path\n",
    "from citybike.data_cleaning import merge_station_info, handle_wind_speed_gaps\n",
    "\n",
    "# Define data directories\n",
    "RAW_DIR = Path(\"../data/raw\")\n",
    "CLEAN_DIR = Path(\"../data/clean\")\n",
    "CLEAN_DIR.mkdir(parents=True, exist_ok=True)\n",
    "\n",
    "pd.set_option('display.float_format', '{:.2f}'.format)"
   ]
  },
  {
   "cell_type": "markdown",
   "id": "be54b702",
   "metadata": {},
   "source": [
    "### Load the data"
   ]
  },
  {
   "cell_type": "code",
   "execution_count": 2,
   "id": "06d02ab8",
   "metadata": {},
   "outputs": [
    {
     "data": {
      "text/html": [
       "<div>\n",
       "<style scoped>\n",
       "    .dataframe tbody tr th:only-of-type {\n",
       "        vertical-align: middle;\n",
       "    }\n",
       "\n",
       "    .dataframe tbody tr th {\n",
       "        vertical-align: top;\n",
       "    }\n",
       "\n",
       "    .dataframe thead th {\n",
       "        text-align: right;\n",
       "    }\n",
       "</style>\n",
       "<table border=\"1\" class=\"dataframe\">\n",
       "  <thead>\n",
       "    <tr style=\"text-align: right;\">\n",
       "      <th></th>\n",
       "      <th>departure</th>\n",
       "      <th>return</th>\n",
       "      <th>departure_id</th>\n",
       "      <th>departure_name</th>\n",
       "      <th>return_id</th>\n",
       "      <th>return_name</th>\n",
       "      <th>distance</th>\n",
       "      <th>duration</th>\n",
       "    </tr>\n",
       "  </thead>\n",
       "  <tbody>\n",
       "    <tr>\n",
       "      <th>0</th>\n",
       "      <td>2020-03-23 06:09:44</td>\n",
       "      <td>2020-03-23 06:16:26</td>\n",
       "      <td>086</td>\n",
       "      <td>Kuusitie</td>\n",
       "      <td>111</td>\n",
       "      <td>Esterinportti</td>\n",
       "      <td>1747.00</td>\n",
       "      <td>401.00</td>\n",
       "    </tr>\n",
       "    <tr>\n",
       "      <th>1</th>\n",
       "      <td>2020-03-23 06:11:58</td>\n",
       "      <td>2020-03-23 06:26:31</td>\n",
       "      <td>026</td>\n",
       "      <td>Kamppi (M)</td>\n",
       "      <td>010</td>\n",
       "      <td>Kasarmitori</td>\n",
       "      <td>1447.00</td>\n",
       "      <td>869.00</td>\n",
       "    </tr>\n",
       "    <tr>\n",
       "      <th>2</th>\n",
       "      <td>2020-03-23 06:16:29</td>\n",
       "      <td>2020-03-23 06:24:23</td>\n",
       "      <td>268</td>\n",
       "      <td>Porolahden koulu</td>\n",
       "      <td>254</td>\n",
       "      <td>Agnetankuja</td>\n",
       "      <td>1772.00</td>\n",
       "      <td>469.00</td>\n",
       "    </tr>\n",
       "    <tr>\n",
       "      <th>3</th>\n",
       "      <td>2020-03-23 06:33:53</td>\n",
       "      <td>2020-03-23 07:14:03</td>\n",
       "      <td>751</td>\n",
       "      <td>Vallipolku</td>\n",
       "      <td>106</td>\n",
       "      <td>Korppaanmäentie</td>\n",
       "      <td>7456.00</td>\n",
       "      <td>2406.00</td>\n",
       "    </tr>\n",
       "    <tr>\n",
       "      <th>4</th>\n",
       "      <td>2020-03-23 06:36:09</td>\n",
       "      <td>2020-03-23 07:04:10</td>\n",
       "      <td>062</td>\n",
       "      <td>Välimerenkatu</td>\n",
       "      <td>121</td>\n",
       "      <td>Vilhonvuorenkatu</td>\n",
       "      <td>7120.00</td>\n",
       "      <td>1679.00</td>\n",
       "    </tr>\n",
       "  </tbody>\n",
       "</table>\n",
       "</div>"
      ],
      "text/plain": [
       "            departure              return departure_id    departure_name  \\\n",
       "0 2020-03-23 06:09:44 2020-03-23 06:16:26          086          Kuusitie   \n",
       "1 2020-03-23 06:11:58 2020-03-23 06:26:31          026        Kamppi (M)   \n",
       "2 2020-03-23 06:16:29 2020-03-23 06:24:23          268  Porolahden koulu   \n",
       "3 2020-03-23 06:33:53 2020-03-23 07:14:03          751        Vallipolku   \n",
       "4 2020-03-23 06:36:09 2020-03-23 07:04:10          062     Välimerenkatu   \n",
       "\n",
       "  return_id       return_name  distance  duration  \n",
       "0       111     Esterinportti   1747.00    401.00  \n",
       "1       010       Kasarmitori   1447.00    869.00  \n",
       "2       254       Agnetankuja   1772.00    469.00  \n",
       "3       106   Korppaanmäentie   7456.00   2406.00  \n",
       "4       121  Vilhonvuorenkatu   7120.00   1679.00  "
      ]
     },
     "execution_count": 2,
     "metadata": {},
     "output_type": "execute_result"
    }
   ],
   "source": [
    "dtypes = {'departure_id': str, 'departure_name': str, \n",
    "            'return_id': str, 'return_name': str}\n",
    "bike_df = pd.read_csv(RAW_DIR / 'bike_rides.csv', dtype=dtypes, parse_dates=['departure', 'return'])\n",
    "bike_df.head()"
   ]
  },
  {
   "cell_type": "code",
   "execution_count": 3,
   "id": "02a65c6f",
   "metadata": {},
   "outputs": [
    {
     "data": {
      "text/html": [
       "<div>\n",
       "<style scoped>\n",
       "    .dataframe tbody tr th:only-of-type {\n",
       "        vertical-align: middle;\n",
       "    }\n",
       "\n",
       "    .dataframe tbody tr th {\n",
       "        vertical-align: top;\n",
       "    }\n",
       "\n",
       "    .dataframe thead th {\n",
       "        text-align: right;\n",
       "    }\n",
       "</style>\n",
       "<table border=\"1\" class=\"dataframe\">\n",
       "  <thead>\n",
       "    <tr style=\"text-align: right;\">\n",
       "      <th></th>\n",
       "      <th>name</th>\n",
       "      <th>lat</th>\n",
       "      <th>lon</th>\n",
       "      <th>capacity</th>\n",
       "      <th>source</th>\n",
       "    </tr>\n",
       "    <tr>\n",
       "      <th>id</th>\n",
       "      <th></th>\n",
       "      <th></th>\n",
       "      <th></th>\n",
       "      <th></th>\n",
       "      <th></th>\n",
       "    </tr>\n",
       "  </thead>\n",
       "  <tbody>\n",
       "    <tr>\n",
       "      <th>150</th>\n",
       "      <td>Töölönlahden puisto</td>\n",
       "      <td>60.17</td>\n",
       "      <td>24.94</td>\n",
       "      <td>24.00</td>\n",
       "      <td>HSL</td>\n",
       "    </tr>\n",
       "    <tr>\n",
       "      <th>161</th>\n",
       "      <td>Eteläesplanadi</td>\n",
       "      <td>60.17</td>\n",
       "      <td>24.95</td>\n",
       "      <td>34.00</td>\n",
       "      <td>HSL</td>\n",
       "    </tr>\n",
       "    <tr>\n",
       "      <th>162</th>\n",
       "      <td>Leppäsuonaukio</td>\n",
       "      <td>60.17</td>\n",
       "      <td>24.93</td>\n",
       "      <td>28.00</td>\n",
       "      <td>HSL</td>\n",
       "    </tr>\n",
       "    <tr>\n",
       "      <th>163</th>\n",
       "      <td>Lehtisaarentie</td>\n",
       "      <td>60.18</td>\n",
       "      <td>24.85</td>\n",
       "      <td>12.00</td>\n",
       "      <td>HSL</td>\n",
       "    </tr>\n",
       "    <tr>\n",
       "      <th>118</th>\n",
       "      <td>Fleminginkatu</td>\n",
       "      <td>60.19</td>\n",
       "      <td>24.95</td>\n",
       "      <td>22.00</td>\n",
       "      <td>HSL</td>\n",
       "    </tr>\n",
       "  </tbody>\n",
       "</table>\n",
       "</div>"
      ],
      "text/plain": [
       "                    name   lat   lon  capacity source\n",
       "id                                                   \n",
       "150  Töölönlahden puisto 60.17 24.94     24.00    HSL\n",
       "161       Eteläesplanadi 60.17 24.95     34.00    HSL\n",
       "162       Leppäsuonaukio 60.17 24.93     28.00    HSL\n",
       "163       Lehtisaarentie 60.18 24.85     12.00    HSL\n",
       "118        Fleminginkatu 60.19 24.95     22.00    HSL"
      ]
     },
     "execution_count": 3,
     "metadata": {},
     "output_type": "execute_result"
    }
   ],
   "source": [
    "station_df = pd.read_csv(RAW_DIR / 'stations.csv')\n",
    "station_df = station_df.set_index('id')\n",
    "# Add leading zeros to IDs\n",
    "station_df.index = station_df.index.fillna(-1).astype(int).astype(str).str.zfill(3)  \n",
    "station_df.head()"
   ]
  },
  {
   "cell_type": "code",
   "execution_count": 4,
   "id": "cf827138",
   "metadata": {},
   "outputs": [
    {
     "data": {
      "text/html": [
       "<div>\n",
       "<style scoped>\n",
       "    .dataframe tbody tr th:only-of-type {\n",
       "        vertical-align: middle;\n",
       "    }\n",
       "\n",
       "    .dataframe tbody tr th {\n",
       "        vertical-align: top;\n",
       "    }\n",
       "\n",
       "    .dataframe thead th {\n",
       "        text-align: right;\n",
       "    }\n",
       "</style>\n",
       "<table border=\"1\" class=\"dataframe\">\n",
       "  <thead>\n",
       "    <tr style=\"text-align: right;\">\n",
       "      <th></th>\n",
       "      <th>temperature</th>\n",
       "      <th>wind_speed</th>\n",
       "      <th>precipitation</th>\n",
       "    </tr>\n",
       "    <tr>\n",
       "      <th>time</th>\n",
       "      <th></th>\n",
       "      <th></th>\n",
       "      <th></th>\n",
       "    </tr>\n",
       "  </thead>\n",
       "  <tbody>\n",
       "    <tr>\n",
       "      <th>2020-04-01 00:00:00</th>\n",
       "      <td>2.50</td>\n",
       "      <td>6.40</td>\n",
       "      <td>0.00</td>\n",
       "    </tr>\n",
       "    <tr>\n",
       "      <th>2020-04-01 01:00:00</th>\n",
       "      <td>3.10</td>\n",
       "      <td>4.40</td>\n",
       "      <td>0.00</td>\n",
       "    </tr>\n",
       "    <tr>\n",
       "      <th>2020-04-01 02:00:00</th>\n",
       "      <td>3.30</td>\n",
       "      <td>4.10</td>\n",
       "      <td>0.00</td>\n",
       "    </tr>\n",
       "    <tr>\n",
       "      <th>2020-04-01 03:00:00</th>\n",
       "      <td>3.10</td>\n",
       "      <td>3.70</td>\n",
       "      <td>0.00</td>\n",
       "    </tr>\n",
       "    <tr>\n",
       "      <th>2020-04-01 04:00:00</th>\n",
       "      <td>3.00</td>\n",
       "      <td>4.40</td>\n",
       "      <td>0.00</td>\n",
       "    </tr>\n",
       "  </tbody>\n",
       "</table>\n",
       "</div>"
      ],
      "text/plain": [
       "                     temperature  wind_speed  precipitation\n",
       "time                                                       \n",
       "2020-04-01 00:00:00         2.50        6.40           0.00\n",
       "2020-04-01 01:00:00         3.10        4.40           0.00\n",
       "2020-04-01 02:00:00         3.30        4.10           0.00\n",
       "2020-04-01 03:00:00         3.10        3.70           0.00\n",
       "2020-04-01 04:00:00         3.00        4.40           0.00"
      ]
     },
     "execution_count": 4,
     "metadata": {},
     "output_type": "execute_result"
    }
   ],
   "source": [
    "weather_df = pd.read_csv(RAW_DIR / 'weather.csv', index_col='time')\n",
    "weather_df.head()"
   ]
  },
  {
   "cell_type": "markdown",
   "id": "ab8ba814",
   "metadata": {},
   "source": [
    "### Data Cleaning"
   ]
  },
  {
   "cell_type": "markdown",
   "id": "61538337",
   "metadata": {},
   "source": [
    "#### Missing weather values"
   ]
  },
  {
   "cell_type": "code",
   "execution_count": 5,
   "id": "ab214a17",
   "metadata": {},
   "outputs": [
    {
     "data": {
      "text/html": [
       "<div>\n",
       "<style scoped>\n",
       "    .dataframe tbody tr th:only-of-type {\n",
       "        vertical-align: middle;\n",
       "    }\n",
       "\n",
       "    .dataframe tbody tr th {\n",
       "        vertical-align: top;\n",
       "    }\n",
       "\n",
       "    .dataframe thead th {\n",
       "        text-align: right;\n",
       "    }\n",
       "</style>\n",
       "<table border=\"1\" class=\"dataframe\">\n",
       "  <thead>\n",
       "    <tr style=\"text-align: right;\">\n",
       "      <th></th>\n",
       "      <th>count</th>\n",
       "      <th>percent</th>\n",
       "    </tr>\n",
       "  </thead>\n",
       "  <tbody>\n",
       "    <tr>\n",
       "      <th>temperature</th>\n",
       "      <td>24</td>\n",
       "      <td>0.09</td>\n",
       "    </tr>\n",
       "    <tr>\n",
       "      <th>wind_speed</th>\n",
       "      <td>154</td>\n",
       "      <td>0.60</td>\n",
       "    </tr>\n",
       "    <tr>\n",
       "      <th>precipitation</th>\n",
       "      <td>49</td>\n",
       "      <td>0.19</td>\n",
       "    </tr>\n",
       "  </tbody>\n",
       "</table>\n",
       "</div>"
      ],
      "text/plain": [
       "               count  percent\n",
       "temperature       24     0.09\n",
       "wind_speed       154     0.60\n",
       "precipitation     49     0.19"
      ]
     },
     "execution_count": 5,
     "metadata": {},
     "output_type": "execute_result"
    }
   ],
   "source": [
    "missing_counts = weather_df.isnull().sum()\n",
    "missing_percent = 100 * missing_counts / len(weather_df)\n",
    "missing_summary = pd.DataFrame({'count': missing_counts, 'percent': round(missing_percent, 3)})\n",
    "missing_summary"
   ]
  },
  {
   "cell_type": "markdown",
   "id": "69045dee",
   "metadata": {},
   "source": [
    "Filling even single missing precipitation values could introduce false rainfall events. Therefore we replace missing values with -1 and add a flag column to indicate missing data."
   ]
  },
  {
   "cell_type": "code",
   "execution_count": 6,
   "id": "26933f61",
   "metadata": {},
   "outputs": [],
   "source": [
    "weather_df['precip_missing'] = weather_df['precipitation'].isna().astype(int)\n",
    "\n",
    "# Replace all NaNs with -1 to preserve missing information\n",
    "weather_df['precipitation'] = weather_df['precipitation'].fillna(-1)"
   ]
  },
  {
   "cell_type": "markdown",
   "id": "17ec764c",
   "metadata": {},
   "source": [
    "Short gaps in temperature and wind speed can be interpolated or forward-filled, but first we investigate the lengths of gaps to decide on an appropriate strategy."
   ]
  },
  {
   "cell_type": "code",
   "execution_count": 7,
   "id": "3658dedc",
   "metadata": {},
   "outputs": [
    {
     "name": "stdout",
     "output_type": "stream",
     "text": [
      "temperature: 0 gaps > 6 hours, lengths = []\")\n",
      "wind_speed: 7 gaps > 6 hours, lengths = [12, 8, 9, 8, 8, 12, 18]\")\n"
     ]
    }
   ],
   "source": [
    "gap_limit = 6\n",
    "for col in ['temperature', 'wind_speed']:\n",
    "    consecutive_nans = weather_df[col].isna().astype(int).groupby(weather_df[col].notna().astype(int).cumsum()).sum().tolist()\n",
    "    gaps = [gap for gap in consecutive_nans if gap > gap_limit]\n",
    "    print(f'{col}: {len(gaps)} gaps > {gap_limit} hours, lengths = {gaps}\")')\n"
   ]
  },
  {
   "cell_type": "markdown",
   "id": "f9963f88",
   "metadata": {},
   "source": [
    "Temperature changes slowly, so small gaps (<6 hours) can be forward-filled without introducing unrealistic trends."
   ]
  },
  {
   "cell_type": "code",
   "execution_count": 8,
   "id": "3f2eab8f",
   "metadata": {},
   "outputs": [],
   "source": [
    "weather_df['temperature'] = weather_df['temperature'].ffill()"
   ]
  },
  {
   "cell_type": "markdown",
   "id": "1ad8b2b1",
   "metadata": {},
   "source": [
    "Wind speed is more variable and requires different ways to handle the gaps:\n",
    "- Short gaps (<6 hours) are interpolated linearly to preserve natural fluctuations.\n",
    "- Longer gaps are replaced with -1 and flagged to indicate missing data."
   ]
  },
  {
   "cell_type": "code",
   "execution_count": 9,
   "id": "c588905b",
   "metadata": {},
   "outputs": [],
   "source": [
    "weather_df = handle_wind_speed_gaps(weather_df)"
   ]
  },
  {
   "cell_type": "markdown",
   "id": "50df0695",
   "metadata": {},
   "source": [
    "#### Missing values in the bike ride data\n",
    "The city bike season typically runs from the beginning of April to the end of October. In 2020, the season started unusually early on March 23rd. To maintain consistency across seasons, rides from March 2020 are excluded from the analysis."
   ]
  },
  {
   "cell_type": "code",
   "execution_count": 10,
   "id": "4556687c",
   "metadata": {},
   "outputs": [],
   "source": [
    "bike_df = bike_df[bike_df['departure'].dt.month != 3]"
   ]
  },
  {
   "cell_type": "markdown",
   "id": "a3e1c2e2",
   "metadata": {},
   "source": [
    "Check the percentage of missing values for each column in the ride dataset."
   ]
  },
  {
   "cell_type": "code",
   "execution_count": 11,
   "id": "44937f62",
   "metadata": {},
   "outputs": [
    {
     "data": {
      "text/html": [
       "<div>\n",
       "<style scoped>\n",
       "    .dataframe tbody tr th:only-of-type {\n",
       "        vertical-align: middle;\n",
       "    }\n",
       "\n",
       "    .dataframe tbody tr th {\n",
       "        vertical-align: top;\n",
       "    }\n",
       "\n",
       "    .dataframe thead th {\n",
       "        text-align: right;\n",
       "    }\n",
       "</style>\n",
       "<table border=\"1\" class=\"dataframe\">\n",
       "  <thead>\n",
       "    <tr style=\"text-align: right;\">\n",
       "      <th></th>\n",
       "      <th>count</th>\n",
       "      <th>percent</th>\n",
       "    </tr>\n",
       "  </thead>\n",
       "  <tbody>\n",
       "    <tr>\n",
       "      <th>departure</th>\n",
       "      <td>69</td>\n",
       "      <td>0.00</td>\n",
       "    </tr>\n",
       "    <tr>\n",
       "      <th>return</th>\n",
       "      <td>20</td>\n",
       "      <td>0.00</td>\n",
       "    </tr>\n",
       "    <tr>\n",
       "      <th>departure_id</th>\n",
       "      <td>0</td>\n",
       "      <td>0.00</td>\n",
       "    </tr>\n",
       "    <tr>\n",
       "      <th>departure_name</th>\n",
       "      <td>0</td>\n",
       "      <td>0.00</td>\n",
       "    </tr>\n",
       "    <tr>\n",
       "      <th>return_id</th>\n",
       "      <td>79</td>\n",
       "      <td>0.00</td>\n",
       "    </tr>\n",
       "    <tr>\n",
       "      <th>return_name</th>\n",
       "      <td>79</td>\n",
       "      <td>0.00</td>\n",
       "    </tr>\n",
       "    <tr>\n",
       "      <th>distance</th>\n",
       "      <td>8479</td>\n",
       "      <td>0.06</td>\n",
       "    </tr>\n",
       "    <tr>\n",
       "      <th>duration</th>\n",
       "      <td>209240</td>\n",
       "      <td>1.54</td>\n",
       "    </tr>\n",
       "  </tbody>\n",
       "</table>\n",
       "</div>"
      ],
      "text/plain": [
       "                 count  percent\n",
       "departure           69     0.00\n",
       "return              20     0.00\n",
       "departure_id         0     0.00\n",
       "departure_name       0     0.00\n",
       "return_id           79     0.00\n",
       "return_name         79     0.00\n",
       "distance          8479     0.06\n",
       "duration        209240     1.54"
      ]
     },
     "execution_count": 11,
     "metadata": {},
     "output_type": "execute_result"
    }
   ],
   "source": [
    "missing_counts = bike_df.isnull().sum()\n",
    "missing_percent = 100 * missing_counts / len(bike_df)\n",
    "missing_summary = pd.DataFrame({'count': missing_counts, 'percent': round(missing_percent, 3)})\n",
    "missing_summary"
   ]
  },
  {
   "cell_type": "markdown",
   "id": "6de8fb05",
   "metadata": {},
   "source": [
    "The duration column has the most missing values and requires further investigation to decide how to handle them.\n",
    "The other columns have such a small percentage of missing data that removing the rows with missing values will have a negligible impact on the analysis."
   ]
  },
  {
   "cell_type": "markdown",
   "id": "ba4ae738",
   "metadata": {},
   "source": [
    "####  Exploring the Missing Duration Values\n"
   ]
  },
  {
   "cell_type": "code",
   "execution_count": 12,
   "id": "d7976725",
   "metadata": {},
   "outputs": [
    {
     "data": {
      "text/html": [
       "<div>\n",
       "<style scoped>\n",
       "    .dataframe tbody tr th:only-of-type {\n",
       "        vertical-align: middle;\n",
       "    }\n",
       "\n",
       "    .dataframe tbody tr th {\n",
       "        vertical-align: top;\n",
       "    }\n",
       "\n",
       "    .dataframe thead th {\n",
       "        text-align: right;\n",
       "    }\n",
       "</style>\n",
       "<table border=\"1\" class=\"dataframe\">\n",
       "  <thead>\n",
       "    <tr style=\"text-align: right;\">\n",
       "      <th></th>\n",
       "      <th>departure</th>\n",
       "      <th>return</th>\n",
       "      <th>departure_id</th>\n",
       "      <th>departure_name</th>\n",
       "      <th>return_id</th>\n",
       "      <th>return_name</th>\n",
       "      <th>distance</th>\n",
       "      <th>duration</th>\n",
       "    </tr>\n",
       "  </thead>\n",
       "  <tbody>\n",
       "  </tbody>\n",
       "</table>\n",
       "</div>"
      ],
      "text/plain": [
       "Empty DataFrame\n",
       "Columns: [departure, return, departure_id, departure_name, return_id, return_name, distance, duration]\n",
       "Index: []"
      ]
     },
     "execution_count": 12,
     "metadata": {},
     "output_type": "execute_result"
    }
   ],
   "source": [
    "bike_df[(bike_df['departure'].dt.month == 10) & (bike_df['departure'].dt.year == 2021) & (bike_df['duration'].notna())]"
   ]
  },
  {
   "cell_type": "markdown",
   "id": "f634cc2a",
   "metadata": {},
   "source": [
    "All rows in October 2021 are missing the duration values, while other months are unaffected. This indicates the missing values are not random, but likely due to a data collection error. Removing months worth of data could impact the analysis results, when exploring seasonal patters and comparing yearly data. \n",
    "\n",
    "Since the data contains both departure and return timestamps, the duration can be calculated using these columns. Check if the timestamps are consistent with the duration values."
   ]
  },
  {
   "cell_type": "code",
   "execution_count": 13,
   "id": "d1b2ea4f",
   "metadata": {},
   "outputs": [
    {
     "data": {
      "text/plain": [
       "count   13345181.00\n",
       "mean         284.94\n",
       "std        10589.12\n",
       "min            0.00\n",
       "25%            3.00\n",
       "50%            4.00\n",
       "75%            5.00\n",
       "max      4319138.00\n",
       "Name: duration_diff, dtype: float64"
      ]
     },
     "execution_count": 13,
     "metadata": {},
     "output_type": "execute_result"
    }
   ],
   "source": [
    "bike_df['duration_calc'] = (\n",
    "    pd.to_datetime(bike_df['return']) - pd.to_datetime(bike_df['departure'])\n",
    ").dt.total_seconds()\n",
    "\n",
    "bike_df['duration_diff'] = abs(bike_df['duration_calc'] - bike_df['duration'])\n",
    "\n",
    "bike_df['duration_diff'].describe()"
   ]
  },
  {
   "cell_type": "markdown",
   "id": "a9cee29f",
   "metadata": {},
   "source": [
    "Although the mean difference between the calculated and reported durations is large (≈5 minutes), this is skewed by a few extreme outliers (with a maximum of ≈56 days). However, 75% of the calculated values are within 5 seconds of the reported values."
   ]
  },
  {
   "cell_type": "code",
   "execution_count": 14,
   "id": "4faec553",
   "metadata": {},
   "outputs": [
    {
     "name": "stdout",
     "output_type": "stream",
     "text": [
      "Duration for missing values filled with calculated values:\n",
      "count    209240.00\n",
      "mean       1611.26\n",
      "std       16668.16\n",
      "min       -3205.00\n",
      "25%         328.00\n",
      "50%         554.00\n",
      "75%         943.00\n",
      "max     2499520.00\n",
      "Name: duration, dtype: float64\n",
      "Duration October of the other years:\n",
      "count    846614.00\n",
      "mean       1021.85\n",
      "std       11078.84\n",
      "min           0.00\n",
      "25%         320.00\n",
      "50%         545.00\n",
      "75%         926.00\n",
      "max     2914721.00\n",
      "Name: duration, dtype: float64\n"
     ]
    }
   ],
   "source": [
    "bike_df.loc[bike_df['duration'].isna(), 'duration'] = bike_df.loc[bike_df['duration'].isna(), 'duration_calc']\n",
    "\n",
    "print('Duration for missing values filled with calculated values:')\n",
    "print(bike_df[(bike_df['departure'].dt.month == 10) & (bike_df['departure'].dt.year == 2021)]['duration'].describe())\n",
    "print('Duration October of the other years:')\n",
    "print(bike_df[(bike_df['departure'].dt.month == 10) & (bike_df['departure'].dt.year != 2021)]['duration'].describe())"
   ]
  },
  {
   "cell_type": "markdown",
   "id": "04a81e45",
   "metadata": {},
   "source": [
    "The calculated duration values for the missing October 2021 data appear consistent with the data from October in other years. The median and 25 / 75th percentiles align closely, suggesting that the calculated values are reliable. However, both sets contain extreme outliers, which should be removed."
   ]
  },
  {
   "cell_type": "markdown",
   "id": "7830e64e",
   "metadata": {},
   "source": [
    "#### Remove the rows with missing values"
   ]
  },
  {
   "cell_type": "code",
   "execution_count": 15,
   "id": "be7ffb24",
   "metadata": {},
   "outputs": [
    {
     "name": "stdout",
     "output_type": "stream",
     "text": [
      "Percentage of rides that are over 5 hours: 0.003\n",
      "Percentage of rides that are over 15 kilometers: 0.001\n"
     ]
    }
   ],
   "source": [
    "# Drop rows with missing values and temporary duration columns\n",
    "bike_df = bike_df.drop(columns=['duration_calc', 'duration_diff']).dropna()\n",
    "\n",
    "# Convert seconds to minutes\n",
    "bike_df['duration'] = bike_df['duration'] / 60  \n",
    "bike_df.describe()\n",
    "\n",
    "print(f'Percentage of rides that are over 5 hours: {round(len(bike_df[bike_df.duration > 5 * 60]) / len(bike_df), 3)}')\n",
    "print(f'Percentage of rides that are over 15 kilometers: {round(len(bike_df[bike_df.distance > 15000]) / len(bike_df), 3)}')\n"
   ]
  },
  {
   "cell_type": "markdown",
   "id": "8282fe8f",
   "metadata": {},
   "source": [
    "From 2020 to 2023, the bike pass allowed free rides up to 30 minutes, with a charge of 1 euro for every additional 30 minutes, up to a total of 5 hours. After 5 hours, a delay fee of 80 euros applies, plus 9 euros for each additional 30 minutes. In 2024, the free ride period was extended to one hour, while the rest of the pricing structure remained the same.\n",
    "\n",
    "The pricing incentivizes the users to utilize the bikes for short rides and maximizes the availability of the bikes. Only 0.3% of rides last over 5 hours, which is beyond the intended duration. Therefore, rows with a duration longer than 5 hours are removed. The activation and return of the bike require time, and thus rows with a duration under 1 minute are also removed, as these are likely errors or cases where the user activates and returns the bike to the station without riding it. For the same reason, rides covering less than 50 meters are removed. Rides with a distance over 15 km are also removed, as the bikes are designed for short rides, and longer distances are likely due to GPS or data recording errors."
   ]
  },
  {
   "cell_type": "code",
   "execution_count": 16,
   "id": "a4d20a8f",
   "metadata": {},
   "outputs": [
    {
     "data": {
      "text/html": [
       "<div>\n",
       "<style scoped>\n",
       "    .dataframe tbody tr th:only-of-type {\n",
       "        vertical-align: middle;\n",
       "    }\n",
       "\n",
       "    .dataframe tbody tr th {\n",
       "        vertical-align: top;\n",
       "    }\n",
       "\n",
       "    .dataframe thead th {\n",
       "        text-align: right;\n",
       "    }\n",
       "</style>\n",
       "<table border=\"1\" class=\"dataframe\">\n",
       "  <thead>\n",
       "    <tr style=\"text-align: right;\">\n",
       "      <th></th>\n",
       "      <th>distance</th>\n",
       "      <th>duration</th>\n",
       "    </tr>\n",
       "  </thead>\n",
       "  <tbody>\n",
       "    <tr>\n",
       "      <th>count</th>\n",
       "      <td>12960378.00</td>\n",
       "      <td>12960378.00</td>\n",
       "    </tr>\n",
       "    <tr>\n",
       "      <th>mean</th>\n",
       "      <td>2480.29</td>\n",
       "      <td>13.87</td>\n",
       "    </tr>\n",
       "    <tr>\n",
       "      <th>std</th>\n",
       "      <td>1775.17</td>\n",
       "      <td>13.47</td>\n",
       "    </tr>\n",
       "    <tr>\n",
       "      <th>min</th>\n",
       "      <td>51.00</td>\n",
       "      <td>1.02</td>\n",
       "    </tr>\n",
       "    <tr>\n",
       "      <th>25%</th>\n",
       "      <td>1178.00</td>\n",
       "      <td>6.50</td>\n",
       "    </tr>\n",
       "    <tr>\n",
       "      <th>50%</th>\n",
       "      <td>1999.00</td>\n",
       "      <td>10.83</td>\n",
       "    </tr>\n",
       "    <tr>\n",
       "      <th>75%</th>\n",
       "      <td>3310.00</td>\n",
       "      <td>17.72</td>\n",
       "    </tr>\n",
       "    <tr>\n",
       "      <th>max</th>\n",
       "      <td>14998.00</td>\n",
       "      <td>300.00</td>\n",
       "    </tr>\n",
       "  </tbody>\n",
       "</table>\n",
       "</div>"
      ],
      "text/plain": [
       "         distance    duration\n",
       "count 12960378.00 12960378.00\n",
       "mean      2480.29       13.87\n",
       "std       1775.17       13.47\n",
       "min         51.00        1.02\n",
       "25%       1178.00        6.50\n",
       "50%       1999.00       10.83\n",
       "75%       3310.00       17.72\n",
       "max      14998.00      300.00"
      ]
     },
     "execution_count": 16,
     "metadata": {},
     "output_type": "execute_result"
    }
   ],
   "source": [
    "bike_df = bike_df[(bike_df['duration'] <= 5 * 60) & (bike_df['duration'] > 1) & (bike_df['distance'] > 50) & (bike_df['distance'] < 15000)]\n",
    "bike_df.reset_index(drop=True, inplace=True)\n",
    "bike_df[['distance', 'duration']].describe()"
   ]
  },
  {
   "cell_type": "markdown",
   "id": "928c3c5e",
   "metadata": {},
   "source": [
    "### Merge station location information\n",
    "\n",
    "We merge station location and capacity information into the dataset to enable spatial analysis and explore how geography impacts bike usage.\n",
    "- `lat` and `lon`: Latitude and longitude coordinates that enable geospatial analysis and mapping. These help identify patterns in demand by location and station clustering.\n",
    "- `capacity`: The maximum number of designated docking spots at a station. While this is the official station size, bikes can still be returned even when a station is full by locking them to existing bikes. As a result, actual usage can exceed the stated capacity."
   ]
  },
  {
   "cell_type": "code",
   "execution_count": 17,
   "id": "237a81c6",
   "metadata": {},
   "outputs": [
    {
     "data": {
      "text/html": [
       "<div>\n",
       "<style scoped>\n",
       "    .dataframe tbody tr th:only-of-type {\n",
       "        vertical-align: middle;\n",
       "    }\n",
       "\n",
       "    .dataframe tbody tr th {\n",
       "        vertical-align: top;\n",
       "    }\n",
       "\n",
       "    .dataframe thead th {\n",
       "        text-align: right;\n",
       "    }\n",
       "</style>\n",
       "<table border=\"1\" class=\"dataframe\">\n",
       "  <thead>\n",
       "    <tr style=\"text-align: right;\">\n",
       "      <th></th>\n",
       "      <th>departure</th>\n",
       "      <th>return</th>\n",
       "      <th>departure_id</th>\n",
       "      <th>departure_name</th>\n",
       "      <th>return_id</th>\n",
       "      <th>return_name</th>\n",
       "      <th>distance</th>\n",
       "      <th>duration</th>\n",
       "      <th>departure_lat</th>\n",
       "      <th>departure_lon</th>\n",
       "      <th>departure_capacity</th>\n",
       "      <th>return_lat</th>\n",
       "      <th>return_lon</th>\n",
       "      <th>return_capacity</th>\n",
       "    </tr>\n",
       "  </thead>\n",
       "  <tbody>\n",
       "    <tr>\n",
       "      <th>0</th>\n",
       "      <td>2020-04-01 00:04:08</td>\n",
       "      <td>2020-04-01 00:21:27</td>\n",
       "      <td>062</td>\n",
       "      <td>Välimerenkatu</td>\n",
       "      <td>062</td>\n",
       "      <td>Välimerenkatu</td>\n",
       "      <td>999.00</td>\n",
       "      <td>17.30</td>\n",
       "      <td>60.16</td>\n",
       "      <td>24.92</td>\n",
       "      <td>16.00</td>\n",
       "      <td>60.16</td>\n",
       "      <td>24.92</td>\n",
       "      <td>16.00</td>\n",
       "    </tr>\n",
       "    <tr>\n",
       "      <th>1</th>\n",
       "      <td>2020-04-01 00:12:31</td>\n",
       "      <td>2020-04-01 00:21:34</td>\n",
       "      <td>149</td>\n",
       "      <td>Toinen linja</td>\n",
       "      <td>016</td>\n",
       "      <td>Liisanpuistikko</td>\n",
       "      <td>2372.00</td>\n",
       "      <td>8.97</td>\n",
       "      <td>60.18</td>\n",
       "      <td>24.94</td>\n",
       "      <td>22.00</td>\n",
       "      <td>60.17</td>\n",
       "      <td>24.96</td>\n",
       "      <td>17.00</td>\n",
       "    </tr>\n",
       "    <tr>\n",
       "      <th>2</th>\n",
       "      <td>2020-04-01 00:16:46</td>\n",
       "      <td>2020-04-01 00:46:09</td>\n",
       "      <td>118</td>\n",
       "      <td>Fleminginkatu</td>\n",
       "      <td>105</td>\n",
       "      <td>Tilkantori</td>\n",
       "      <td>4299.00</td>\n",
       "      <td>18.02</td>\n",
       "      <td>60.19</td>\n",
       "      <td>24.95</td>\n",
       "      <td>22.00</td>\n",
       "      <td>60.20</td>\n",
       "      <td>24.89</td>\n",
       "      <td>16.00</td>\n",
       "    </tr>\n",
       "    <tr>\n",
       "      <th>3</th>\n",
       "      <td>2020-04-01 00:19:29</td>\n",
       "      <td>2020-04-01 00:30:13</td>\n",
       "      <td>017</td>\n",
       "      <td>Varsapuistikko</td>\n",
       "      <td>013</td>\n",
       "      <td>Merisotilaantori</td>\n",
       "      <td>1923.00</td>\n",
       "      <td>10.65</td>\n",
       "      <td>60.17</td>\n",
       "      <td>24.95</td>\n",
       "      <td>28.00</td>\n",
       "      <td>60.17</td>\n",
       "      <td>24.98</td>\n",
       "      <td>24.00</td>\n",
       "    </tr>\n",
       "    <tr>\n",
       "      <th>4</th>\n",
       "      <td>2020-04-01 00:22:32</td>\n",
       "      <td>2020-04-01 00:27:29</td>\n",
       "      <td>030</td>\n",
       "      <td>Itämerentori</td>\n",
       "      <td>067</td>\n",
       "      <td>Perämiehenkatu</td>\n",
       "      <td>1376.00</td>\n",
       "      <td>4.87</td>\n",
       "      <td>60.16</td>\n",
       "      <td>24.91</td>\n",
       "      <td>40.00</td>\n",
       "      <td>60.16</td>\n",
       "      <td>24.93</td>\n",
       "      <td>16.00</td>\n",
       "    </tr>\n",
       "  </tbody>\n",
       "</table>\n",
       "</div>"
      ],
      "text/plain": [
       "            departure              return departure_id  departure_name  \\\n",
       "0 2020-04-01 00:04:08 2020-04-01 00:21:27          062   Välimerenkatu   \n",
       "1 2020-04-01 00:12:31 2020-04-01 00:21:34          149    Toinen linja   \n",
       "2 2020-04-01 00:16:46 2020-04-01 00:46:09          118   Fleminginkatu   \n",
       "3 2020-04-01 00:19:29 2020-04-01 00:30:13          017  Varsapuistikko   \n",
       "4 2020-04-01 00:22:32 2020-04-01 00:27:29          030    Itämerentori   \n",
       "\n",
       "  return_id       return_name  distance  duration  departure_lat  \\\n",
       "0       062     Välimerenkatu    999.00     17.30          60.16   \n",
       "1       016   Liisanpuistikko   2372.00      8.97          60.18   \n",
       "2       105        Tilkantori   4299.00     18.02          60.19   \n",
       "3       013  Merisotilaantori   1923.00     10.65          60.17   \n",
       "4       067    Perämiehenkatu   1376.00      4.87          60.16   \n",
       "\n",
       "   departure_lon  departure_capacity  return_lat  return_lon  return_capacity  \n",
       "0          24.92               16.00       60.16       24.92            16.00  \n",
       "1          24.94               22.00       60.17       24.96            17.00  \n",
       "2          24.95               22.00       60.20       24.89            16.00  \n",
       "3          24.95               28.00       60.17       24.98            24.00  \n",
       "4          24.91               40.00       60.16       24.93            16.00  "
      ]
     },
     "execution_count": 17,
     "metadata": {},
     "output_type": "execute_result"
    }
   ],
   "source": [
    "# Merge with station info\n",
    "bike_df = merge_station_info(bike_df, station_df, station_type='departure')\n",
    "bike_df = merge_station_info(bike_df, station_df, station_type='return')\n",
    "\n",
    "bike_df.head()"
   ]
  },
  {
   "cell_type": "markdown",
   "id": "19fa631f",
   "metadata": {},
   "source": [
    "### Save cleaned data"
   ]
  },
  {
   "cell_type": "code",
   "execution_count": 20,
   "id": "72b4a2eb",
   "metadata": {},
   "outputs": [],
   "source": [
    "bike_df.to_csv(CLEAN_DIR / 'bike_rides_cleaned.csv', index=False)\n",
    "\n",
    "weather_df.to_csv(CLEAN_DIR / 'weather_cleaned.csv', index=True)"
   ]
  },
  {
   "cell_type": "markdown",
   "id": "53eb7d7a",
   "metadata": {},
   "source": [
    "### Data Cleaning Summary\n",
    "- Handling missing weather values:\n",
    "    - Precipitation: missing values replaced with -1 and flagged to indicate missing data. \n",
    "    - Temperature: missing values forward-filled. \n",
    "    - Wind speed: Short gaps (<6 hours) interpolated linearly, longer gaps replaced with -1 and flagged.\n",
    "- Calculated missing duration values using departure and return timestamps.\n",
    "- Removed data from March 2020 to maintain consistency in the city bike season.\n",
    "- Removed rows with missing values.\n",
    "- Filtered out rides with unrealistic durations and distances.\n",
    "- Merged station location information and capacity."
   ]
  }
 ],
 "metadata": {
  "kernelspec": {
   "display_name": "citybikes",
   "language": "python",
   "name": "python3"
  },
  "language_info": {
   "codemirror_mode": {
    "name": "ipython",
    "version": 3
   },
   "file_extension": ".py",
   "mimetype": "text/x-python",
   "name": "python",
   "nbconvert_exporter": "python",
   "pygments_lexer": "ipython3",
   "version": "3.12.3"
  }
 },
 "nbformat": 4,
 "nbformat_minor": 5
}
