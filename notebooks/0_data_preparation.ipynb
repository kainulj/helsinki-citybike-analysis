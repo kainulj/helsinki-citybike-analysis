{
 "cells": [
  {
   "cell_type": "markdown",
   "id": "b7f50ecc",
   "metadata": {},
   "source": [
    "# 0. Data Preparation\n",
    "This notebook handles data cleaning and feature engineering for the city bike data. It assumes that city bike ride and station location data have already been downloaded and saved to `/data/raw/` by the separate scripts. "
   ]
  },
  {
   "cell_type": "code",
   "execution_count": 1,
   "id": "60e88073",
   "metadata": {},
   "outputs": [],
   "source": [
    "import pandas as pd\n",
    "import numpy as np\n",
    "from pathlib import Path\n",
    "\n",
    "# Define data directories\n",
    "RAW_DIR = Path(\"../data/raw\")\n",
    "CLEAN_DIR = Path(\"../data/clean\")\n",
    "CLEAN_DIR.mkdir(parents=True, exist_ok=True)"
   ]
  },
  {
   "cell_type": "markdown",
   "id": "be54b702",
   "metadata": {},
   "source": [
    "### Load the data"
   ]
  },
  {
   "cell_type": "code",
   "execution_count": 2,
   "id": "06d02ab8",
   "metadata": {},
   "outputs": [
    {
     "data": {
      "text/html": [
       "<div>\n",
       "<style scoped>\n",
       "    .dataframe tbody tr th:only-of-type {\n",
       "        vertical-align: middle;\n",
       "    }\n",
       "\n",
       "    .dataframe tbody tr th {\n",
       "        vertical-align: top;\n",
       "    }\n",
       "\n",
       "    .dataframe thead th {\n",
       "        text-align: right;\n",
       "    }\n",
       "</style>\n",
       "<table border=\"1\" class=\"dataframe\">\n",
       "  <thead>\n",
       "    <tr style=\"text-align: right;\">\n",
       "      <th></th>\n",
       "      <th>departure</th>\n",
       "      <th>return</th>\n",
       "      <th>departure_id</th>\n",
       "      <th>departure_name</th>\n",
       "      <th>return_id</th>\n",
       "      <th>return_name</th>\n",
       "      <th>distance</th>\n",
       "      <th>duration</th>\n",
       "    </tr>\n",
       "  </thead>\n",
       "  <tbody>\n",
       "    <tr>\n",
       "      <th>0</th>\n",
       "      <td>2020-03-23 06:09:44</td>\n",
       "      <td>2020-03-23 06:16:26</td>\n",
       "      <td>086</td>\n",
       "      <td>Kuusitie</td>\n",
       "      <td>111</td>\n",
       "      <td>Esterinportti</td>\n",
       "      <td>1747.0</td>\n",
       "      <td>401.0</td>\n",
       "    </tr>\n",
       "    <tr>\n",
       "      <th>1</th>\n",
       "      <td>2020-03-23 06:11:58</td>\n",
       "      <td>2020-03-23 06:26:31</td>\n",
       "      <td>026</td>\n",
       "      <td>Kamppi (M)</td>\n",
       "      <td>010</td>\n",
       "      <td>Kasarmitori</td>\n",
       "      <td>1447.0</td>\n",
       "      <td>869.0</td>\n",
       "    </tr>\n",
       "    <tr>\n",
       "      <th>2</th>\n",
       "      <td>2020-03-23 06:16:29</td>\n",
       "      <td>2020-03-23 06:24:23</td>\n",
       "      <td>268</td>\n",
       "      <td>Porolahden koulu</td>\n",
       "      <td>254</td>\n",
       "      <td>Agnetankuja</td>\n",
       "      <td>1772.0</td>\n",
       "      <td>469.0</td>\n",
       "    </tr>\n",
       "    <tr>\n",
       "      <th>3</th>\n",
       "      <td>2020-03-23 06:33:53</td>\n",
       "      <td>2020-03-23 07:14:03</td>\n",
       "      <td>751</td>\n",
       "      <td>Vallipolku</td>\n",
       "      <td>106</td>\n",
       "      <td>Korppaanmäentie</td>\n",
       "      <td>7456.0</td>\n",
       "      <td>2406.0</td>\n",
       "    </tr>\n",
       "    <tr>\n",
       "      <th>4</th>\n",
       "      <td>2020-03-23 06:36:09</td>\n",
       "      <td>2020-03-23 07:04:10</td>\n",
       "      <td>062</td>\n",
       "      <td>Välimerenkatu</td>\n",
       "      <td>121</td>\n",
       "      <td>Vilhonvuorenkatu</td>\n",
       "      <td>7120.0</td>\n",
       "      <td>1679.0</td>\n",
       "    </tr>\n",
       "  </tbody>\n",
       "</table>\n",
       "</div>"
      ],
      "text/plain": [
       "            departure              return departure_id    departure_name  \\\n",
       "0 2020-03-23 06:09:44 2020-03-23 06:16:26          086          Kuusitie   \n",
       "1 2020-03-23 06:11:58 2020-03-23 06:26:31          026        Kamppi (M)   \n",
       "2 2020-03-23 06:16:29 2020-03-23 06:24:23          268  Porolahden koulu   \n",
       "3 2020-03-23 06:33:53 2020-03-23 07:14:03          751        Vallipolku   \n",
       "4 2020-03-23 06:36:09 2020-03-23 07:04:10          062     Välimerenkatu   \n",
       "\n",
       "  return_id       return_name  distance  duration  \n",
       "0       111     Esterinportti    1747.0     401.0  \n",
       "1       010       Kasarmitori    1447.0     869.0  \n",
       "2       254       Agnetankuja    1772.0     469.0  \n",
       "3       106   Korppaanmäentie    7456.0    2406.0  \n",
       "4       121  Vilhonvuorenkatu    7120.0    1679.0  "
      ]
     },
     "execution_count": 2,
     "metadata": {},
     "output_type": "execute_result"
    }
   ],
   "source": [
    "dtypes = {'departure_id': str, 'departure_name': str, \n",
    "            'return_id': str, 'return_name': str}\n",
    "bike_df = pd.read_csv(RAW_DIR / 'bike_rides.csv', dtype=dtypes, parse_dates=['departure', 'return'])\n",
    "bike_df.head()"
   ]
  },
  {
   "cell_type": "code",
   "execution_count": 3,
   "id": "02a65c6f",
   "metadata": {},
   "outputs": [
    {
     "data": {
      "text/html": [
       "<div>\n",
       "<style scoped>\n",
       "    .dataframe tbody tr th:only-of-type {\n",
       "        vertical-align: middle;\n",
       "    }\n",
       "\n",
       "    .dataframe tbody tr th {\n",
       "        vertical-align: top;\n",
       "    }\n",
       "\n",
       "    .dataframe thead th {\n",
       "        text-align: right;\n",
       "    }\n",
       "</style>\n",
       "<table border=\"1\" class=\"dataframe\">\n",
       "  <thead>\n",
       "    <tr style=\"text-align: right;\">\n",
       "      <th></th>\n",
       "      <th>name</th>\n",
       "      <th>lat</th>\n",
       "      <th>lon</th>\n",
       "      <th>capacity</th>\n",
       "      <th>source</th>\n",
       "    </tr>\n",
       "    <tr>\n",
       "      <th>id</th>\n",
       "      <th></th>\n",
       "      <th></th>\n",
       "      <th></th>\n",
       "      <th></th>\n",
       "      <th></th>\n",
       "    </tr>\n",
       "  </thead>\n",
       "  <tbody>\n",
       "    <tr>\n",
       "      <th>150</th>\n",
       "      <td>Töölönlahden puisto</td>\n",
       "      <td>60.174646</td>\n",
       "      <td>24.935186</td>\n",
       "      <td>24.0</td>\n",
       "      <td>HSL</td>\n",
       "    </tr>\n",
       "    <tr>\n",
       "      <th>161</th>\n",
       "      <td>Eteläesplanadi</td>\n",
       "      <td>60.167231</td>\n",
       "      <td>24.947466</td>\n",
       "      <td>34.0</td>\n",
       "      <td>HSL</td>\n",
       "    </tr>\n",
       "    <tr>\n",
       "      <th>162</th>\n",
       "      <td>Leppäsuonaukio</td>\n",
       "      <td>60.169573</td>\n",
       "      <td>24.926590</td>\n",
       "      <td>28.0</td>\n",
       "      <td>HSL</td>\n",
       "    </tr>\n",
       "    <tr>\n",
       "      <th>163</th>\n",
       "      <td>Lehtisaarentie</td>\n",
       "      <td>60.181813</td>\n",
       "      <td>24.850440</td>\n",
       "      <td>12.0</td>\n",
       "      <td>HSL</td>\n",
       "    </tr>\n",
       "    <tr>\n",
       "      <th>118</th>\n",
       "      <td>Fleminginkatu</td>\n",
       "      <td>60.188154</td>\n",
       "      <td>24.952916</td>\n",
       "      <td>22.0</td>\n",
       "      <td>HSL</td>\n",
       "    </tr>\n",
       "  </tbody>\n",
       "</table>\n",
       "</div>"
      ],
      "text/plain": [
       "                    name        lat        lon  capacity source\n",
       "id                                                             \n",
       "150  Töölönlahden puisto  60.174646  24.935186      24.0    HSL\n",
       "161       Eteläesplanadi  60.167231  24.947466      34.0    HSL\n",
       "162       Leppäsuonaukio  60.169573  24.926590      28.0    HSL\n",
       "163       Lehtisaarentie  60.181813  24.850440      12.0    HSL\n",
       "118        Fleminginkatu  60.188154  24.952916      22.0    HSL"
      ]
     },
     "execution_count": 3,
     "metadata": {},
     "output_type": "execute_result"
    }
   ],
   "source": [
    "station_df = pd.read_csv(RAW_DIR / 'stations.csv')\n",
    "station_df = station_df.set_index('id')\n",
    "# Add leading zeros to IDs\n",
    "station_df.index = station_df.index.fillna(-1).astype(int).astype(str).str.zfill(3)  \n",
    "station_df.head()"
   ]
  },
  {
   "cell_type": "markdown",
   "id": "ab8ba814",
   "metadata": {},
   "source": [
    "### Data Cleaning"
   ]
  },
  {
   "cell_type": "markdown",
   "id": "50df0695",
   "metadata": {},
   "source": [
    "The city bike season typically runs from the beginning of April to the end of October. In 2020, the season started unusually early on March 23rd. To maintain consistency across seasons, rides from March 2020 are excluded from the analysis."
   ]
  },
  {
   "cell_type": "code",
   "execution_count": 4,
   "id": "4556687c",
   "metadata": {},
   "outputs": [],
   "source": [
    "bike_df = bike_df[bike_df['departure'].dt.month != 3]"
   ]
  },
  {
   "cell_type": "markdown",
   "id": "a3e1c2e2",
   "metadata": {},
   "source": [
    "Check the percentage of missing values for each column in the ride dataset."
   ]
  },
  {
   "cell_type": "code",
   "execution_count": 5,
   "id": "44937f62",
   "metadata": {},
   "outputs": [
    {
     "name": "stdout",
     "output_type": "stream",
     "text": [
      "                 count  percent\n",
      "departure           69    0.001\n",
      "return              20    0.000\n",
      "departure_id         0    0.000\n",
      "departure_name       0    0.000\n",
      "return_id           79    0.001\n",
      "return_name         79    0.001\n",
      "distance          8479    0.063\n",
      "duration        209240    1.544\n"
     ]
    }
   ],
   "source": [
    "missing_counts = bike_df.isnull().sum()\n",
    "missing_percent = 100 * missing_counts / len(bike_df)\n",
    "missing_summary = pd.DataFrame({'count': missing_counts, 'percent': round(missing_percent, 3)})\n",
    "print(missing_summary)"
   ]
  },
  {
   "cell_type": "markdown",
   "id": "6de8fb05",
   "metadata": {},
   "source": [
    "The duration column has the most missing values and requires further investigation to decide how to handle them.\n",
    "The other columns have such a small percentage of missing data that removing the rows with missing values will have a negligible impact on the analysis."
   ]
  },
  {
   "cell_type": "markdown",
   "id": "ba4ae738",
   "metadata": {},
   "source": [
    "####  Exploring the Missing Duration Values\n"
   ]
  },
  {
   "cell_type": "code",
   "execution_count": 6,
   "id": "d7976725",
   "metadata": {},
   "outputs": [
    {
     "data": {
      "text/html": [
       "<div>\n",
       "<style scoped>\n",
       "    .dataframe tbody tr th:only-of-type {\n",
       "        vertical-align: middle;\n",
       "    }\n",
       "\n",
       "    .dataframe tbody tr th {\n",
       "        vertical-align: top;\n",
       "    }\n",
       "\n",
       "    .dataframe thead th {\n",
       "        text-align: right;\n",
       "    }\n",
       "</style>\n",
       "<table border=\"1\" class=\"dataframe\">\n",
       "  <thead>\n",
       "    <tr style=\"text-align: right;\">\n",
       "      <th></th>\n",
       "      <th>departure</th>\n",
       "      <th>return</th>\n",
       "      <th>departure_id</th>\n",
       "      <th>departure_name</th>\n",
       "      <th>return_id</th>\n",
       "      <th>return_name</th>\n",
       "      <th>distance</th>\n",
       "      <th>duration</th>\n",
       "    </tr>\n",
       "  </thead>\n",
       "  <tbody>\n",
       "  </tbody>\n",
       "</table>\n",
       "</div>"
      ],
      "text/plain": [
       "Empty DataFrame\n",
       "Columns: [departure, return, departure_id, departure_name, return_id, return_name, distance, duration]\n",
       "Index: []"
      ]
     },
     "execution_count": 6,
     "metadata": {},
     "output_type": "execute_result"
    }
   ],
   "source": [
    "bike_df[(bike_df['departure'].dt.month == 10) & (bike_df['departure'].dt.year == 2021) & (bike_df['duration'].notna())]"
   ]
  },
  {
   "cell_type": "markdown",
   "id": "f634cc2a",
   "metadata": {},
   "source": [
    "All rows in October 2021 are missing the duration values, while other months are unaffected. This indicates the missing values are not random, but likely due to a data collection error. Removing months worth of data could impact the analysis results, when exploring seasonal patters and comparing yearly data. \n",
    "\n",
    "Since the data contains both departure and return timestamps, the duration can be calculated using these columns. Check if the timestamps are consistent with the duration values."
   ]
  },
  {
   "cell_type": "code",
   "execution_count": 7,
   "id": "d1b2ea4f",
   "metadata": {},
   "outputs": [
    {
     "name": "stdout",
     "output_type": "stream",
     "text": [
      "count    1.334518e+07\n",
      "mean     2.849358e+02\n",
      "std      1.058912e+04\n",
      "min      0.000000e+00\n",
      "25%      3.000000e+00\n",
      "50%      4.000000e+00\n",
      "75%      5.000000e+00\n",
      "max      4.319138e+06\n",
      "Name: duration_diff, dtype: float64\n"
     ]
    }
   ],
   "source": [
    "bike_df['duration_calc'] = (\n",
    "    pd.to_datetime(bike_df['return']) - pd.to_datetime(bike_df['departure'])\n",
    ").dt.total_seconds()\n",
    "\n",
    "bike_df['duration_diff'] = abs(bike_df['duration_calc'] - bike_df['duration'])\n",
    "\n",
    "print(bike_df['duration_diff'].describe())"
   ]
  },
  {
   "cell_type": "markdown",
   "id": "a9cee29f",
   "metadata": {},
   "source": [
    "Although the mean difference between the calculated and reported durations is large (≈5 minutes), this is skewed by a few extreme outliers (with a maximum of ≈56 days). However, 75% of the calculated values are within 5 seconds of the reported values."
   ]
  },
  {
   "cell_type": "code",
   "execution_count": 8,
   "id": "4faec553",
   "metadata": {},
   "outputs": [
    {
     "name": "stdout",
     "output_type": "stream",
     "text": [
      "Duration for missing values filled with calculated values:\n",
      "count    2.092400e+05\n",
      "mean     1.611257e+03\n",
      "std      1.666816e+04\n",
      "min     -3.205000e+03\n",
      "25%      3.280000e+02\n",
      "50%      5.540000e+02\n",
      "75%      9.430000e+02\n",
      "max      2.499520e+06\n",
      "Name: duration, dtype: float64\n",
      "Duration October of the other years:\n",
      "count    8.466140e+05\n",
      "mean     1.021855e+03\n",
      "std      1.107884e+04\n",
      "min      0.000000e+00\n",
      "25%      3.200000e+02\n",
      "50%      5.450000e+02\n",
      "75%      9.260000e+02\n",
      "max      2.914721e+06\n",
      "Name: duration, dtype: float64\n"
     ]
    }
   ],
   "source": [
    "bike_df.loc[bike_df['duration'].isna(), 'duration'] = bike_df.loc[bike_df['duration'].isna(), 'duration_calc']\n",
    "\n",
    "print('Duration for missing values filled with calculated values:')\n",
    "print(bike_df[(bike_df['departure'].dt.month == 10) & (bike_df['departure'].dt.year == 2021)]['duration'].describe())\n",
    "print('Duration October of the other years:')\n",
    "print(bike_df[(bike_df['departure'].dt.month == 10) & (bike_df['departure'].dt.year != 2021)]['duration'].describe())"
   ]
  },
  {
   "cell_type": "markdown",
   "id": "04a81e45",
   "metadata": {},
   "source": [
    "The calculated duration values for the missing October 2021 data appear consistent with the data from October in other years. The median and 25 / 75th percentiles align closely, suggesting that the calculated values are reliable. However, both sets contain extreme outliers, which should be removed."
   ]
  },
  {
   "cell_type": "markdown",
   "id": "7830e64e",
   "metadata": {},
   "source": [
    "#### Remove the rows with missing values"
   ]
  },
  {
   "cell_type": "code",
   "execution_count": 9,
   "id": "be7ffb24",
   "metadata": {},
   "outputs": [
    {
     "name": "stdout",
     "output_type": "stream",
     "text": [
      "Percentage of rides that are over 5 hours: 0.003\n"
     ]
    }
   ],
   "source": [
    "# Drop rows with missing values and temporary duration columns\n",
    "bike_df = bike_df.dropna().drop(columns=['duration_calc', 'duration_diff'])\n",
    "\n",
    "# Convert seconds to minutes\n",
    "bike_df['duration'] = bike_df['duration'] / 60  \n",
    "bike_df.describe()\n",
    "\n",
    "print(f'Percentage of rides that are over 5 hours: {round(len(bike_df[bike_df.duration > 5 * 60]) / len(bike_df), 3)}')"
   ]
  },
  {
   "cell_type": "markdown",
   "id": "8282fe8f",
   "metadata": {},
   "source": [
    "From 2020 to 2023, the bike pass allowed free rides up to 30 minutes, with a charge of 1 euro for every additional 30 minutes, up to a total of 5 hours. After 5 hours, a delay fee of 80 euros applies, plus 9 euros for each additional 30 minutes. In 2024, the free ride period was extended to one hour, while the rest of the pricing structure remained the same.\n",
    "\n",
    "The pricing incentivizes the users to utilize the bikes for short rides and maximizes the availability of the bikes. Only 0.3% of rides last over 5 hours, which is beyond the intended duration. Therefore, rows with a duration longer than 5 hours are removed. The activation and return of the bike require time, and thus rows with a duration under 1 minute are also removed, as these are likely errors or cases where the user activates and returns the bike to the station without riding it.\n",
    "\n",
    "Rides where the distance is under 50 meters are also removed, for the same reason as rides under 1 minute. Rides with a distance over 15 km are also removed, as the bikes are designed for short rides, and the majority of longer rides are assumed to be errors."
   ]
  },
  {
   "cell_type": "code",
   "execution_count": 10,
   "id": "a4d20a8f",
   "metadata": {},
   "outputs": [
    {
     "data": {
      "text/html": [
       "<div>\n",
       "<style scoped>\n",
       "    .dataframe tbody tr th:only-of-type {\n",
       "        vertical-align: middle;\n",
       "    }\n",
       "\n",
       "    .dataframe tbody tr th {\n",
       "        vertical-align: top;\n",
       "    }\n",
       "\n",
       "    .dataframe thead th {\n",
       "        text-align: right;\n",
       "    }\n",
       "</style>\n",
       "<table border=\"1\" class=\"dataframe\">\n",
       "  <thead>\n",
       "    <tr style=\"text-align: right;\">\n",
       "      <th></th>\n",
       "      <th>distance</th>\n",
       "      <th>duration</th>\n",
       "    </tr>\n",
       "  </thead>\n",
       "  <tbody>\n",
       "    <tr>\n",
       "      <th>count</th>\n",
       "      <td>1.276228e+07</td>\n",
       "      <td>1.276228e+07</td>\n",
       "    </tr>\n",
       "    <tr>\n",
       "      <th>mean</th>\n",
       "      <td>2.485129e+03</td>\n",
       "      <td>1.387775e+01</td>\n",
       "    </tr>\n",
       "    <tr>\n",
       "      <th>std</th>\n",
       "      <td>1.777973e+03</td>\n",
       "      <td>1.337869e+01</td>\n",
       "    </tr>\n",
       "    <tr>\n",
       "      <th>min</th>\n",
       "      <td>5.100000e+01</td>\n",
       "      <td>1.016667e+00</td>\n",
       "    </tr>\n",
       "    <tr>\n",
       "      <th>25%</th>\n",
       "      <td>1.181000e+03</td>\n",
       "      <td>6.500000e+00</td>\n",
       "    </tr>\n",
       "    <tr>\n",
       "      <th>50%</th>\n",
       "      <td>2.004000e+03</td>\n",
       "      <td>1.085000e+01</td>\n",
       "    </tr>\n",
       "    <tr>\n",
       "      <th>75%</th>\n",
       "      <td>3.318000e+03</td>\n",
       "      <td>1.775000e+01</td>\n",
       "    </tr>\n",
       "    <tr>\n",
       "      <th>max</th>\n",
       "      <td>1.499800e+04</td>\n",
       "      <td>3.000000e+02</td>\n",
       "    </tr>\n",
       "  </tbody>\n",
       "</table>\n",
       "</div>"
      ],
      "text/plain": [
       "           distance      duration\n",
       "count  1.276228e+07  1.276228e+07\n",
       "mean   2.485129e+03  1.387775e+01\n",
       "std    1.777973e+03  1.337869e+01\n",
       "min    5.100000e+01  1.016667e+00\n",
       "25%    1.181000e+03  6.500000e+00\n",
       "50%    2.004000e+03  1.085000e+01\n",
       "75%    3.318000e+03  1.775000e+01\n",
       "max    1.499800e+04  3.000000e+02"
      ]
     },
     "execution_count": 10,
     "metadata": {},
     "output_type": "execute_result"
    }
   ],
   "source": [
    "bike_df = bike_df[(bike_df['duration'] <= 5 * 60) & (bike_df['duration'] > 1) & (bike_df['distance'] > 50) & (bike_df['distance'] < 15000)]\n",
    "bike_df.reset_index(drop=True, inplace=True)\n",
    "bike_df[['distance', 'duration']].describe()"
   ]
  },
  {
   "cell_type": "markdown",
   "id": "928c3c5e",
   "metadata": {},
   "source": [
    "### Feature engineering\n",
    "\n",
    "To support temporal analysis of bike usage patterns, we extract features such as `hour`, `month`, `year`, `weekday`, and `is_weekend` from the `departure` timestamp.\n",
    "- `hour`: Captures daily patterns and helps identify peak usage times. \n",
    "- `weekday`: Helps detect weekly trends in ride behavior, such as workweek commuting and weekend leisure.\n",
    "- `is_weekend`: A boolean flag indicating whether the ride occurred on a weekend, useful for separating weekday and weekend usage patterns.\n",
    "- `month` and `year`: Useful for analyzing seasonal trends and enabling multi-year comparisons.\n",
    "\n",
    "\n",
    "We also merge station location and capacity information into the dataset to enable spatial analysis and explore how geography impacts bike usage.\n",
    "- `lat` and `lon`: Latitude and longitude coordinates that enable geospatial analysis and mapping. These help identify patterns in demand by location and station clustering.\n",
    "- `capacity`: The maximum number of designated docking spots at a station. While this is the official station size, bikes can still be returned even when a station is full by locking them to existing bikes. As a result, actual usage can exceed the stated capacity.\n"
   ]
  },
  {
   "cell_type": "code",
   "execution_count": 11,
   "id": "272cfb2a",
   "metadata": {},
   "outputs": [],
   "source": [
    "def merge_station_info(bike_df, station_df, station_type):\n",
    "    hsl_stations = station_df[station_df['source'] == 'HSL']\n",
    "    osm_stations = station_df[station_df['source'] == 'OSM']\n",
    "\n",
    "    # Merge HSL station info\n",
    "    bike_df = bike_df.merge(\n",
    "        hsl_stations[['lat', 'lon', 'capacity']].add_prefix(f'{station_type}_'),\n",
    "        left_on=f'{station_type}_id',\n",
    "        right_index=True,\n",
    "        how='left'\n",
    "    )\n",
    "    # Merge OSM station info as separate columns\n",
    "    bike_df = bike_df.merge(\n",
    "        osm_stations[['lat', 'lon', 'capacity', 'name']].add_prefix(f'OSM_{station_type}_'),\n",
    "        left_on=f'{station_type}_name',\n",
    "        right_on=f'OSM_{station_type}_name',\n",
    "        how='left'\n",
    "    )\n",
    "\n",
    "    # Fill missing values from OSM\n",
    "    for col in ['lat', 'lon', 'capacity']:\n",
    "        bike_df[f'{station_type}_{col}'] = bike_df[f'{station_type}_{col}'].fillna(bike_df[f'OSM_{station_type}_{col}'])\n",
    "\n",
    "    # Drop the OSM columns\n",
    "    bike_df = bike_df.drop(columns=[\n",
    "        f'OSM_{station_type}_name',\n",
    "        f'OSM_{station_type}_lat',\n",
    "        f'OSM_{station_type}_lon',\n",
    "        f'OSM_{station_type}_capacity'\n",
    "    ])\n",
    "\n",
    "    return bike_df"
   ]
  },
  {
   "cell_type": "code",
   "execution_count": 12,
   "id": "237a81c6",
   "metadata": {},
   "outputs": [
    {
     "data": {
      "text/html": [
       "<div>\n",
       "<style scoped>\n",
       "    .dataframe tbody tr th:only-of-type {\n",
       "        vertical-align: middle;\n",
       "    }\n",
       "\n",
       "    .dataframe tbody tr th {\n",
       "        vertical-align: top;\n",
       "    }\n",
       "\n",
       "    .dataframe thead th {\n",
       "        text-align: right;\n",
       "    }\n",
       "</style>\n",
       "<table border=\"1\" class=\"dataframe\">\n",
       "  <thead>\n",
       "    <tr style=\"text-align: right;\">\n",
       "      <th></th>\n",
       "      <th>departure</th>\n",
       "      <th>return</th>\n",
       "      <th>departure_id</th>\n",
       "      <th>departure_name</th>\n",
       "      <th>return_id</th>\n",
       "      <th>return_name</th>\n",
       "      <th>distance</th>\n",
       "      <th>duration</th>\n",
       "      <th>hour</th>\n",
       "      <th>month</th>\n",
       "      <th>year</th>\n",
       "      <th>weekday</th>\n",
       "      <th>is_weekend</th>\n",
       "      <th>departure_lat</th>\n",
       "      <th>departure_lon</th>\n",
       "      <th>departure_capacity</th>\n",
       "      <th>return_lat</th>\n",
       "      <th>return_lon</th>\n",
       "      <th>return_capacity</th>\n",
       "    </tr>\n",
       "  </thead>\n",
       "  <tbody>\n",
       "    <tr>\n",
       "      <th>0</th>\n",
       "      <td>2020-04-01 00:04:08</td>\n",
       "      <td>2020-04-01 00:21:27</td>\n",
       "      <td>062</td>\n",
       "      <td>Välimerenkatu</td>\n",
       "      <td>062</td>\n",
       "      <td>Välimerenkatu</td>\n",
       "      <td>999.0</td>\n",
       "      <td>17.300000</td>\n",
       "      <td>0</td>\n",
       "      <td>4</td>\n",
       "      <td>2020</td>\n",
       "      <td>2</td>\n",
       "      <td>False</td>\n",
       "      <td>60.159296</td>\n",
       "      <td>24.916241</td>\n",
       "      <td>16.0</td>\n",
       "      <td>60.159296</td>\n",
       "      <td>24.916241</td>\n",
       "      <td>16.0</td>\n",
       "    </tr>\n",
       "    <tr>\n",
       "      <th>1</th>\n",
       "      <td>2020-04-01 00:12:31</td>\n",
       "      <td>2020-04-01 00:21:34</td>\n",
       "      <td>149</td>\n",
       "      <td>Toinen linja</td>\n",
       "      <td>016</td>\n",
       "      <td>Liisanpuistikko</td>\n",
       "      <td>2372.0</td>\n",
       "      <td>8.966667</td>\n",
       "      <td>0</td>\n",
       "      <td>4</td>\n",
       "      <td>2020</td>\n",
       "      <td>2</td>\n",
       "      <td>False</td>\n",
       "      <td>60.183164</td>\n",
       "      <td>24.944195</td>\n",
       "      <td>22.0</td>\n",
       "      <td>60.174140</td>\n",
       "      <td>24.962084</td>\n",
       "      <td>17.0</td>\n",
       "    </tr>\n",
       "    <tr>\n",
       "      <th>2</th>\n",
       "      <td>2020-04-01 00:16:46</td>\n",
       "      <td>2020-04-01 00:46:09</td>\n",
       "      <td>118</td>\n",
       "      <td>Fleminginkatu</td>\n",
       "      <td>105</td>\n",
       "      <td>Tilkantori</td>\n",
       "      <td>4299.0</td>\n",
       "      <td>18.016667</td>\n",
       "      <td>0</td>\n",
       "      <td>4</td>\n",
       "      <td>2020</td>\n",
       "      <td>2</td>\n",
       "      <td>False</td>\n",
       "      <td>60.188154</td>\n",
       "      <td>24.952916</td>\n",
       "      <td>22.0</td>\n",
       "      <td>60.202839</td>\n",
       "      <td>24.893476</td>\n",
       "      <td>16.0</td>\n",
       "    </tr>\n",
       "    <tr>\n",
       "      <th>3</th>\n",
       "      <td>2020-04-01 00:19:29</td>\n",
       "      <td>2020-04-01 00:30:13</td>\n",
       "      <td>017</td>\n",
       "      <td>Varsapuistikko</td>\n",
       "      <td>013</td>\n",
       "      <td>Merisotilaantori</td>\n",
       "      <td>1923.0</td>\n",
       "      <td>10.650000</td>\n",
       "      <td>0</td>\n",
       "      <td>4</td>\n",
       "      <td>2020</td>\n",
       "      <td>2</td>\n",
       "      <td>False</td>\n",
       "      <td>60.173103</td>\n",
       "      <td>24.949519</td>\n",
       "      <td>28.0</td>\n",
       "      <td>60.167870</td>\n",
       "      <td>24.975534</td>\n",
       "      <td>24.0</td>\n",
       "    </tr>\n",
       "    <tr>\n",
       "      <th>4</th>\n",
       "      <td>2020-04-01 00:22:32</td>\n",
       "      <td>2020-04-01 00:27:29</td>\n",
       "      <td>030</td>\n",
       "      <td>Itämerentori</td>\n",
       "      <td>067</td>\n",
       "      <td>Perämiehenkatu</td>\n",
       "      <td>1376.0</td>\n",
       "      <td>4.866667</td>\n",
       "      <td>0</td>\n",
       "      <td>4</td>\n",
       "      <td>2020</td>\n",
       "      <td>2</td>\n",
       "      <td>False</td>\n",
       "      <td>60.163531</td>\n",
       "      <td>24.914517</td>\n",
       "      <td>40.0</td>\n",
       "      <td>60.160088</td>\n",
       "      <td>24.934066</td>\n",
       "      <td>16.0</td>\n",
       "    </tr>\n",
       "  </tbody>\n",
       "</table>\n",
       "</div>"
      ],
      "text/plain": [
       "            departure              return departure_id  departure_name  \\\n",
       "0 2020-04-01 00:04:08 2020-04-01 00:21:27          062   Välimerenkatu   \n",
       "1 2020-04-01 00:12:31 2020-04-01 00:21:34          149    Toinen linja   \n",
       "2 2020-04-01 00:16:46 2020-04-01 00:46:09          118   Fleminginkatu   \n",
       "3 2020-04-01 00:19:29 2020-04-01 00:30:13          017  Varsapuistikko   \n",
       "4 2020-04-01 00:22:32 2020-04-01 00:27:29          030    Itämerentori   \n",
       "\n",
       "  return_id       return_name  distance   duration  hour  month  year  \\\n",
       "0       062     Välimerenkatu     999.0  17.300000     0      4  2020   \n",
       "1       016   Liisanpuistikko    2372.0   8.966667     0      4  2020   \n",
       "2       105        Tilkantori    4299.0  18.016667     0      4  2020   \n",
       "3       013  Merisotilaantori    1923.0  10.650000     0      4  2020   \n",
       "4       067    Perämiehenkatu    1376.0   4.866667     0      4  2020   \n",
       "\n",
       "   weekday  is_weekend  departure_lat  departure_lon  departure_capacity  \\\n",
       "0        2       False      60.159296      24.916241                16.0   \n",
       "1        2       False      60.183164      24.944195                22.0   \n",
       "2        2       False      60.188154      24.952916                22.0   \n",
       "3        2       False      60.173103      24.949519                28.0   \n",
       "4        2       False      60.163531      24.914517                40.0   \n",
       "\n",
       "   return_lat  return_lon  return_capacity  \n",
       "0   60.159296   24.916241             16.0  \n",
       "1   60.174140   24.962084             17.0  \n",
       "2   60.202839   24.893476             16.0  \n",
       "3   60.167870   24.975534             24.0  \n",
       "4   60.160088   24.934066             16.0  "
      ]
     },
     "execution_count": 12,
     "metadata": {},
     "output_type": "execute_result"
    }
   ],
   "source": [
    "# Temporal features\n",
    "bike_df['hour'] = bike_df['departure'].dt.hour\n",
    "bike_df['month'] = bike_df['departure'].dt.month\n",
    "bike_df['year'] = bike_df['departure'].dt.year\n",
    "bike_df['weekday'] = bike_df['departure'].dt.weekday\n",
    "bike_df['is_weekend'] = bike_df['weekday'] >= 5\n",
    "\n",
    "# Merge with station info\n",
    "bike_df = merge_station_info(bike_df, station_df, station_type='departure')\n",
    "bike_df = merge_station_info(bike_df, station_df, station_type='return')\n",
    "\n",
    "bike_df.head()"
   ]
  },
  {
   "cell_type": "markdown",
   "id": "19fa631f",
   "metadata": {},
   "source": [
    "### Save cleaned data"
   ]
  },
  {
   "cell_type": "code",
   "execution_count": 13,
   "id": "72b4a2eb",
   "metadata": {},
   "outputs": [],
   "source": [
    "bike_df.to_csv(CLEAN_DIR / 'bike_rides_cleaned.csv', index=False)"
   ]
  },
  {
   "cell_type": "markdown",
   "id": "53eb7d7a",
   "metadata": {},
   "source": [
    "### Data Cleaning Summary\n",
    "- Calculated missing duration values using departure and return timestamps.\n",
    "- Removed data from March 2020 to maintain consistency in the city bike season.\n",
    "- Removed rows with missing values.\n",
    "- Filtered out rides with unrealistic durations and distances.\n",
    "- Added temporal features: `hour`, `month`, `year`, `weekday`, and `is_weekend`.\n",
    "- Merged station location information and capacity."
   ]
  }
 ],
 "metadata": {
  "kernelspec": {
   "display_name": "citybikes",
   "language": "python",
   "name": "python3"
  },
  "language_info": {
   "codemirror_mode": {
    "name": "ipython",
    "version": 3
   },
   "file_extension": ".py",
   "mimetype": "text/x-python",
   "name": "python",
   "nbconvert_exporter": "python",
   "pygments_lexer": "ipython3",
   "version": "3.12.3"
  }
 },
 "nbformat": 4,
 "nbformat_minor": 5
}
